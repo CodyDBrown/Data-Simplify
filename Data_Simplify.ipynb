{
 "cells": [
  {
   "cell_type": "code",
   "execution_count": 1,
   "metadata": {},
   "outputs": [
    {
     "data": {
      "text/plain": [
       "\" Author: Cody Brown\\n    Date:  February 24, 2018\\n    Purpose: Take in a fits file and remove data that isn't needed for Binary Search. \\n             Mainly I will remove any objects that weren't seen at least 5 times. Then I'll\\n             remove any observations that returned any 'nan' or any non physical values.\""
      ]
     },
     "execution_count": 1,
     "metadata": {},
     "output_type": "execute_result"
    }
   ],
   "source": [
    "\"\"\" Author: Cody Brown\n",
    "    Date:  February 24, 2018\n",
    "    Purpose: Take in a fits file and remove data that isn't needed for Binary Search. \n",
    "             Mainly I will remove any objects that weren't seen at least 5 times. Then I'll\n",
    "             remove any observations that returned any 'nan' or any non physical values.\"\"\""
   ]
  },
  {
   "cell_type": "code",
   "execution_count": 2,
   "metadata": {
    "collapsed": true
   },
   "outputs": [],
   "source": [
    "# Loading helpfull librarries\n",
    "from astropy.io import fits\n",
    "from astropy.table import Table\n",
    "\n",
    "import numpy as np\n",
    "import matplotlib.pyplot as plt\n",
    "\n",
    "# Import the data and set it as two Tables, AllAverage just looks at the average measurments for each object\n",
    "# AllVisit is the data from each individual pass at the object.\n",
    "AllAverage = Table(fits.getdata('/home/cody/Binary Search/allMC.avg.nocut.fits',1))\n",
    "AllVisit   = Table(fits.getdata('/home/cody/Binary Search/allVisit-t9-l31c-58104.mc.fits',1))\n",
    "\n",
    "# Now I want to make an array of APOGEE_ID, NVISITS, VSCATTER, STABLERV_CHI2, STABLERV_CHI2_PROB, VHELIO_AVG values,\n",
    "AllAvgSimp = AllAverage['APOGEE_ID','NVISITS','VSCATTER','STABLERV_CHI2','STABLERV_CHI2_PROB','VHELIO_AVG']\n",
    "# Now that I have a table with only the columns I want, I would like to get rid of any row that has less than 5 visits,\n",
    "# First I'll make an array of the rows where NVISITS is less than 5\n",
    "aRowsRemove = []\n",
    "for n in range(len(AllAvgSimp)):\n",
    "    if AllAvgSimp['NVISITS'][n] < 5:\n",
    "        aRowsRemove.append(n)\n",
    "aRowsRemove  # This is a list of all the rows I want to remove from AllAvgSimp\n",
    "\n",
    "AllAvgSimp.remove_rows(aRowsRemove) # Now I want to cut out those rows\n"
   ]
  },
  {
   "cell_type": "code",
   "execution_count": 3,
   "metadata": {},
   "outputs": [
    {
     "data": {
      "text/plain": [
       "\"\\nnew_table1 = Table()\\nnew_table2 = Table()\\nnew_table3 = Table()\\nnew_table4 = Table()\\nnew_table5 = Table() # Make an epty table,\\nnew_table6 = Table()\\nnew_table7 = Table()\\nstart = 0\\nend = 0 \\nfor x in range(len(AllAverage)):\\n    star = AllAverage['APOGEE_ID'][x]\\n    n = AllAverage['NVISITS'][x]\\n    if n == 1:\\n        start = end\\n        end += n\\n        Holder_Velocities = AllVisit['VHELIO'][start:end]\\n        new_table1[star] =  Holder_Velocities\\n    elif n == 2:\\n        start = end\\n        end += n\\n        Holder_Velocities = AllVisit['VHELIO'][start:end]\\n        new_table2[star] =  Holder_Velocities    \\n    elif n == 3:\\n        start = end\\n        end += n\\n        Holder_Velocities = AllVisit['VHELIO'][start:end]\\n        new_table3[star] =  Holder_Velocities\\n    elif n == 4:\\n        start = end\\n        end += n\\n        Holder_Velocities = AllVisit['VHELIO'][start:end]\\n        new_table4[star] =  Holder_Velocities\\n    elif n == 5:\\n        start = end\\n        end += n\\n        Holder_Velocities = AllVisit['VHELIO'][start:end]\\n        new_table5[star] =  Holder_Velocities\\n    elif n == 6:\\n        start = end\\n        end += n\\n        Holder_Velocities = AllVisit['VHELIO'][start:end]\\n        new_table6[star] =  Holder_Velocities\\n    elif n == 7:\\n        start = end\\n        end += n\\n        Holder_Velocities = AllVisit['VHELIO'][start:end]\\n        new_table7[star] =  Holder_Velocities    \\n        \""
      ]
     },
     "execution_count": 3,
     "metadata": {},
     "output_type": "execute_result"
    }
   ],
   "source": [
    "# Testing out an idea for how to make the table a little easier. \n",
    "# NOT WORKING YET DONT RUN!!!!\n",
    "\"\"\"\n",
    "new_table1 = Table()\n",
    "new_table2 = Table()\n",
    "new_table3 = Table()\n",
    "new_table4 = Table()\n",
    "new_table5 = Table() # Make an epty table,\n",
    "new_table6 = Table()\n",
    "new_table7 = Table()\n",
    "start = 0\n",
    "end = 0 \n",
    "for x in range(len(AllAverage)):\n",
    "    star = AllAverage['APOGEE_ID'][x]\n",
    "    n = AllAverage['NVISITS'][x]\n",
    "    if n == 1:\n",
    "        start = end\n",
    "        end += n\n",
    "        Holder_Velocities = AllVisit['VHELIO'][start:end]\n",
    "        new_table1[star] =  Holder_Velocities\n",
    "    elif n == 2:\n",
    "        start = end\n",
    "        end += n\n",
    "        Holder_Velocities = AllVisit['VHELIO'][start:end]\n",
    "        new_table2[star] =  Holder_Velocities    \n",
    "    elif n == 3:\n",
    "        start = end\n",
    "        end += n\n",
    "        Holder_Velocities = AllVisit['VHELIO'][start:end]\n",
    "        new_table3[star] =  Holder_Velocities\n",
    "    elif n == 4:\n",
    "        start = end\n",
    "        end += n\n",
    "        Holder_Velocities = AllVisit['VHELIO'][start:end]\n",
    "        new_table4[star] =  Holder_Velocities\n",
    "    elif n == 5:\n",
    "        start = end\n",
    "        end += n\n",
    "        Holder_Velocities = AllVisit['VHELIO'][start:end]\n",
    "        new_table5[star] =  Holder_Velocities\n",
    "    elif n == 6:\n",
    "        start = end\n",
    "        end += n\n",
    "        Holder_Velocities = AllVisit['VHELIO'][start:end]\n",
    "        new_table6[star] =  Holder_Velocities\n",
    "    elif n == 7:\n",
    "        start = end\n",
    "        end += n\n",
    "        Holder_Velocities = AllVisit['VHELIO'][start:end]\n",
    "        new_table7[star] =  Holder_Velocities    \n",
    "        \"\"\" "
   ]
  },
  {
   "cell_type": "code",
   "execution_count": 4,
   "metadata": {
    "collapsed": true
   },
   "outputs": [],
   "source": [
    "holder = []  # Holder array that I will apend the rows I want to keep\n",
    "for n in range(len(AllVisit)):\n",
    "    for m in AllAvgSimp['APOGEE_ID']:\n",
    "        if AllVisit['APOGEE_ID'][n] == m:\n",
    "            holder.append(n)\n",
    "            break"
   ]
  },
  {
   "cell_type": "code",
   "execution_count": 5,
   "metadata": {
    "collapsed": true
   },
   "outputs": [],
   "source": [
    "# 'holder' should be an array of all the rows in AllVisits, that had at least 5 visits. Now I want to remove\n",
    "# all of the other rows out of AllVisit.\n",
    "remove_AllVisit = []\n",
    "dumby_AllVisit = list(range(0,len(AllVisit))) #List of numbers from 0:len(AllVisit)\n",
    "for x in dumby_AllVisit:\n",
    "    if x not in holder:\n",
    "        remove_AllVisit.append(dumby_AllVisit[x]) #This will give me a list of all the rows I want to remove from AllVisit.\n",
    "        \n",
    "# Now I have an array of rows I want to remove I want to do the same thing that I did for\n"
   ]
  },
  {
   "cell_type": "code",
   "execution_count": 6,
   "metadata": {
    "collapsed": true
   },
   "outputs": [],
   "source": [
    "AllVisSimp = AllVisit\n",
    "AllVisSimp.remove_rows(remove_AllVisit)\n",
    "# Next is to remove any points with 'NVISIT' that might be nan.\n",
    "#AllVisSimp = AllVisSimp[np.isfinite(AllVisSimp('VHELIO'))]"
   ]
  },
  {
   "cell_type": "code",
   "execution_count": 7,
   "metadata": {
    "collapsed": true
   },
   "outputs": [],
   "source": [
    "AllVisSimp = AllVisSimp[np.isfinite(AllVisSimp['VHELIO'])]"
   ]
  },
  {
   "cell_type": "code",
   "execution_count": 8,
   "metadata": {
    "collapsed": true
   },
   "outputs": [],
   "source": [
    "remove_ToFast = []\n",
    "dumby_ToFast = list(range(0,len(AllVisSimp)))\n",
    "for y in dumby_ToFast:\n",
    "    if AllVisSimp['VHELIO'][y] > 10**4:\n",
    "        remove_ToFast.append(dumby_ToFast[y])"
   ]
  },
  {
   "cell_type": "code",
   "execution_count": 9,
   "metadata": {
    "collapsed": true
   },
   "outputs": [],
   "source": [
    "AllVisSimp.remove_rows(remove_ToFast)"
   ]
  },
  {
   "cell_type": "code",
   "execution_count": 10,
   "metadata": {},
   "outputs": [
    {
     "ename": "OSError",
     "evalue": "File exists: AllVisSimp.fits",
     "output_type": "error",
     "traceback": [
      "\u001b[0;31m---------------------------------------------------------------------------\u001b[0m",
      "\u001b[0;31mOSError\u001b[0m                                   Traceback (most recent call last)",
      "\u001b[0;32m<ipython-input-10-e870759e0264>\u001b[0m in \u001b[0;36m<module>\u001b[0;34m()\u001b[0m\n\u001b[1;32m      1\u001b[0m \u001b[0;31m# Now that I have these simplified tables I'd like to save them so\u001b[0m\u001b[0;34m\u001b[0m\u001b[0;34m\u001b[0m\u001b[0m\n\u001b[1;32m      2\u001b[0m \u001b[0;31m# I don't have to remake them every time.\u001b[0m\u001b[0;34m\u001b[0m\u001b[0;34m\u001b[0m\u001b[0m\n\u001b[0;32m----> 3\u001b[0;31m \u001b[0mAllVisSimp\u001b[0m\u001b[0;34m.\u001b[0m\u001b[0mwrite\u001b[0m\u001b[0;34m(\u001b[0m\u001b[0;34m'AllVisSimp.fits'\u001b[0m\u001b[0;34m,\u001b[0m \u001b[0mformat\u001b[0m \u001b[0;34m=\u001b[0m \u001b[0;34m'fits'\u001b[0m\u001b[0;34m)\u001b[0m\u001b[0;34m\u001b[0m\u001b[0m\n\u001b[0m\u001b[1;32m      4\u001b[0m \u001b[0mAllAvgSimp\u001b[0m\u001b[0;34m.\u001b[0m\u001b[0mwrite\u001b[0m\u001b[0;34m(\u001b[0m\u001b[0;34m'AllAvgSimp.fits'\u001b[0m\u001b[0;34m,\u001b[0m \u001b[0mformat\u001b[0m \u001b[0;34m=\u001b[0m \u001b[0;34m'fits'\u001b[0m\u001b[0;34m)\u001b[0m\u001b[0;34m\u001b[0m\u001b[0m\n",
      "\u001b[0;32m~/anaconda3/lib/python3.6/site-packages/astropy/table/table.py\u001b[0m in \u001b[0;36mwrite\u001b[0;34m(self, *args, **kwargs)\u001b[0m\n\u001b[1;32m   2548\u001b[0m         \u001b[0mpassed\u001b[0m \u001b[0mthrough\u001b[0m \u001b[0mto\u001b[0m \u001b[0mthe\u001b[0m \u001b[0munderlying\u001b[0m \u001b[0mdata\u001b[0m \u001b[0mreader\u001b[0m \u001b[0;34m(\u001b[0m\u001b[0me\u001b[0m\u001b[0;34m.\u001b[0m\u001b[0mg\u001b[0m\u001b[0;34m.\u001b[0m\u001b[0;31m \u001b[0m\u001b[0;31m`\u001b[0m\u001b[0;34m~\u001b[0m\u001b[0mastropy\u001b[0m\u001b[0;34m.\u001b[0m\u001b[0mio\u001b[0m\u001b[0;34m.\u001b[0m\u001b[0mascii\u001b[0m\u001b[0;34m.\u001b[0m\u001b[0mwrite\u001b[0m\u001b[0;31m`\u001b[0m\u001b[0;34m)\u001b[0m\u001b[0;34m.\u001b[0m\u001b[0;34m\u001b[0m\u001b[0m\n\u001b[1;32m   2549\u001b[0m         \"\"\"\n\u001b[0;32m-> 2550\u001b[0;31m         \u001b[0mio_registry\u001b[0m\u001b[0;34m.\u001b[0m\u001b[0mwrite\u001b[0m\u001b[0;34m(\u001b[0m\u001b[0mself\u001b[0m\u001b[0;34m,\u001b[0m \u001b[0;34m*\u001b[0m\u001b[0margs\u001b[0m\u001b[0;34m,\u001b[0m \u001b[0;34m**\u001b[0m\u001b[0mkwargs\u001b[0m\u001b[0;34m)\u001b[0m\u001b[0;34m\u001b[0m\u001b[0m\n\u001b[0m\u001b[1;32m   2551\u001b[0m \u001b[0;34m\u001b[0m\u001b[0m\n\u001b[1;32m   2552\u001b[0m     \u001b[0;32mdef\u001b[0m \u001b[0mcopy\u001b[0m\u001b[0;34m(\u001b[0m\u001b[0mself\u001b[0m\u001b[0;34m,\u001b[0m \u001b[0mcopy_data\u001b[0m\u001b[0;34m=\u001b[0m\u001b[0;32mTrue\u001b[0m\u001b[0;34m)\u001b[0m\u001b[0;34m:\u001b[0m\u001b[0;34m\u001b[0m\u001b[0m\n",
      "\u001b[0;32m~/anaconda3/lib/python3.6/site-packages/astropy/io/registry.py\u001b[0m in \u001b[0;36mwrite\u001b[0;34m(data, *args, **kwargs)\u001b[0m\n\u001b[1;32m    579\u001b[0m \u001b[0;34m\u001b[0m\u001b[0m\n\u001b[1;32m    580\u001b[0m     \u001b[0mwriter\u001b[0m \u001b[0;34m=\u001b[0m \u001b[0mget_writer\u001b[0m\u001b[0;34m(\u001b[0m\u001b[0mformat\u001b[0m\u001b[0;34m,\u001b[0m \u001b[0mdata\u001b[0m\u001b[0;34m.\u001b[0m\u001b[0m__class__\u001b[0m\u001b[0;34m)\u001b[0m\u001b[0;34m\u001b[0m\u001b[0m\n\u001b[0;32m--> 581\u001b[0;31m     \u001b[0mwriter\u001b[0m\u001b[0;34m(\u001b[0m\u001b[0mdata\u001b[0m\u001b[0;34m,\u001b[0m \u001b[0;34m*\u001b[0m\u001b[0margs\u001b[0m\u001b[0;34m,\u001b[0m \u001b[0;34m**\u001b[0m\u001b[0mkwargs\u001b[0m\u001b[0;34m)\u001b[0m\u001b[0;34m\u001b[0m\u001b[0m\n\u001b[0m\u001b[1;32m    582\u001b[0m \u001b[0;34m\u001b[0m\u001b[0m\n\u001b[1;32m    583\u001b[0m \u001b[0;34m\u001b[0m\u001b[0m\n",
      "\u001b[0;32m~/anaconda3/lib/python3.6/site-packages/astropy/io/fits/connect.py\u001b[0m in \u001b[0;36mwrite_table_fits\u001b[0;34m(input, output, overwrite)\u001b[0m\n\u001b[1;32m    217\u001b[0m             \u001b[0mos\u001b[0m\u001b[0;34m.\u001b[0m\u001b[0mremove\u001b[0m\u001b[0;34m(\u001b[0m\u001b[0moutput\u001b[0m\u001b[0;34m)\u001b[0m\u001b[0;34m\u001b[0m\u001b[0m\n\u001b[1;32m    218\u001b[0m         \u001b[0;32melse\u001b[0m\u001b[0;34m:\u001b[0m\u001b[0;34m\u001b[0m\u001b[0m\n\u001b[0;32m--> 219\u001b[0;31m             \u001b[0;32mraise\u001b[0m \u001b[0mIOError\u001b[0m\u001b[0;34m(\u001b[0m\u001b[0;34m\"File exists: {0}\"\u001b[0m\u001b[0;34m.\u001b[0m\u001b[0mformat\u001b[0m\u001b[0;34m(\u001b[0m\u001b[0moutput\u001b[0m\u001b[0;34m)\u001b[0m\u001b[0;34m)\u001b[0m\u001b[0;34m\u001b[0m\u001b[0m\n\u001b[0m\u001b[1;32m    220\u001b[0m \u001b[0;34m\u001b[0m\u001b[0m\n\u001b[1;32m    221\u001b[0m     \u001b[0mtable_hdu\u001b[0m\u001b[0;34m.\u001b[0m\u001b[0mwriteto\u001b[0m\u001b[0;34m(\u001b[0m\u001b[0moutput\u001b[0m\u001b[0;34m)\u001b[0m\u001b[0;34m\u001b[0m\u001b[0m\n",
      "\u001b[0;31mOSError\u001b[0m: File exists: AllVisSimp.fits"
     ]
    }
   ],
   "source": [
    "# Now that I have these simplified tables I'd like to save them so\n",
    "# I don't have to remake them every time.\n",
    "AllVisSimp.write('AllVisSimp.fits', format = 'fits')\n",
    "AllAvgSimp.write('AllAvgSimp.fits', format = 'fits')"
   ]
  },
  {
   "cell_type": "code",
   "execution_count": null,
   "metadata": {
    "collapsed": true
   },
   "outputs": [],
   "source": []
  }
 ],
 "metadata": {
  "kernelspec": {
   "display_name": "Python 3",
   "language": "python",
   "name": "python3"
  },
  "language_info": {
   "codemirror_mode": {
    "name": "ipython",
    "version": 3
   },
   "file_extension": ".py",
   "mimetype": "text/x-python",
   "name": "python",
   "nbconvert_exporter": "python",
   "pygments_lexer": "ipython3",
   "version": "3.6.3"
  }
 },
 "nbformat": 4,
 "nbformat_minor": 2
}
